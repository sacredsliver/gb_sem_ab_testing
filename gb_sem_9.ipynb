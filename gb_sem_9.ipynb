{
 "cells": [
  {
   "cell_type": "code",
   "execution_count": null,
   "id": "c471b204",
   "metadata": {},
   "outputs": [],
   "source": [
    "from typing import Union\n",
    "from tqdm import tqdm\n",
    "\n",
    "import pandas as pd\n",
    "import numpy as np\n",
    "import plotly.express as px\n",
    "\n",
    "from scipy import stats\n",
    "from statsmodels.stats.meta_analysis import effectsize_smd\n",
    "from statsmodels.stats import proportion\n",
    "from statsmodels.stats.power import tt_ind_solve_power\n",
    "from statsmodels.stats.power import zt_ind_solve_power"
   ]
  },
  {
   "cell_type": "code",
   "execution_count": null,
   "id": "97e5dad6",
   "metadata": {},
   "outputs": [],
   "source": [
    "data = pd.read_csv('data/gb_sem_9_cw.csv')"
   ]
  },
  {
   "cell_type": "code",
   "execution_count": null,
   "id": "dfee6abd",
   "metadata": {},
   "outputs": [],
   "source": [
    "data"
   ]
  },
  {
   "cell_type": "code",
   "execution_count": null,
   "id": "4a7bd8f1",
   "metadata": {},
   "outputs": [],
   "source": [
    "data.info()"
   ]
  },
  {
   "cell_type": "code",
   "execution_count": null,
   "id": "b3d5e47a",
   "metadata": {},
   "outputs": [],
   "source": [
    "from operator import mul\n",
    "\n",
    "def convert_time(my_time: str):\n",
    "    factors = (1, 1/60)\n",
    "    time = sum(map(mul, map(float, my_time.split(':')), factors))\n",
    "    return round(time, 2)\n",
    "\n",
    "data.time = data.time.apply(convert_time)\n",
    "data.con_treat.replace({'control': 0, 'treatment': 1}, inplace=True)\n",
    "data.page.replace({'old_page': 0, 'new_page': 1}, inplace=True)"
   ]
  },
  {
   "cell_type": "code",
   "execution_count": null,
   "id": "7c434caa",
   "metadata": {},
   "outputs": [],
   "source": [
    "data"
   ]
  },
  {
   "cell_type": "code",
   "execution_count": null,
   "id": "ddf97c50",
   "metadata": {},
   "outputs": [],
   "source": [
    "data.info()"
   ]
  },
  {
   "cell_type": "code",
   "execution_count": null,
   "id": "b614c226",
   "metadata": {},
   "outputs": [],
   "source": [
    "data.describe()"
   ]
  },
  {
   "cell_type": "code",
   "execution_count": null,
   "id": "d3bbc301",
   "metadata": {},
   "outputs": [],
   "source": [
    "data.con_treat.equals(data.page)"
   ]
  },
  {
   "cell_type": "code",
   "execution_count": null,
   "id": "dc2ab5f6",
   "metadata": {},
   "outputs": [],
   "source": [
    "data.con_treat.compare(data.page).index"
   ]
  },
  {
   "cell_type": "code",
   "execution_count": null,
   "id": "4ababbfe",
   "metadata": {},
   "outputs": [],
   "source": [
    "data.iloc[data.con_treat.compare(data.page).index, :]"
   ]
  },
  {
   "cell_type": "code",
   "execution_count": null,
   "id": "555d46a5",
   "metadata": {},
   "outputs": [],
   "source": [
    "data_2 = data.drop(data.con_treat.compare(data.page).index).copy(deep=True)"
   ]
  },
  {
   "cell_type": "code",
   "execution_count": null,
   "id": "d60ab9ca",
   "metadata": {},
   "outputs": [],
   "source": [
    "data_2.con_treat.equals(data_2.page)"
   ]
  },
  {
   "cell_type": "code",
   "execution_count": null,
   "id": "220cfac0",
   "metadata": {},
   "outputs": [],
   "source": [
    "data_2.id.value_counts()"
   ]
  },
  {
   "cell_type": "code",
   "execution_count": null,
   "id": "f832cac6",
   "metadata": {},
   "outputs": [],
   "source": [
    "data_2 = data_2.loc[data_2.id.isin(data_2.id.value_counts()[data_2.id.value_counts() == 1].index.values), :]"
   ]
  },
  {
   "cell_type": "code",
   "execution_count": null,
   "id": "add3dbb5",
   "metadata": {},
   "outputs": [],
   "source": [
    "data_2"
   ]
  },
  {
   "cell_type": "code",
   "execution_count": null,
   "id": "ea17274a",
   "metadata": {},
   "outputs": [],
   "source": [
    "def continious_result(control: pd.DataFrame,\n",
    "                      treatment: pd.DataFrame,\n",
    "                      column: str,\n",
    "                      n_iters: int = 10_000) -> pd.DataFrame:\n",
    "    # Статистика по выборкам\n",
    "    size = control.loc[:, column].shape[0]\n",
    "    \n",
    "    control_mean = control.loc[:, column].mean()\n",
    "    treatment_mean = treatment.loc[:, column].mean()\n",
    "    \n",
    "    control_std = control.loc[:, column].std(ddof=1)\n",
    "    treatment_std = treatment.loc[:, column].std(ddof=1)\n",
    "    \n",
    "    # Бутсрап\n",
    "    booted_diff = []\n",
    "    for _ in tqdm(range(n_iters)):\n",
    "        control_sample = control.loc[:, column].sample(n=size, replace=True).values\n",
    "        treatment_sample = treatment.loc[:, column].sample(n=size, replace=True).values\n",
    "        booted_diff.append(np.mean(control_sample - treatment_sample))\n",
    "    \n",
    "    # Считаем статистику после бустрапа\n",
    "    md_ci, std_ci = np.mean(booted_diff), np.std(booted_diff, ddof=1)\n",
    "    left_ci, right_ci = np.percentile(booted_diff, [2.5, 97.5])\n",
    "    p_value_ci = 2 * (1 - stats.norm.cdf(np.abs(md_ci / std_ci)))\n",
    "    \n",
    "    # Считаем мощность эксперимента\n",
    "    effect_size, _ = effectsize_smd(mean1=treatment_mean, sd1=treatment_std, nobs1=size,\n",
    "                                    mean2=control_mean, sd2=control_std, nobs2=size)\n",
    "    power = tt_ind_solve_power(effect_size=effect_size,\n",
    "                               nobs1=size,\n",
    "                               alpha=.05,\n",
    "                               power=None,\n",
    "                               ratio=1)\n",
    "    # Формируем отчёт \n",
    "    result = pd.DataFrame({'effect_size': effect_size,\n",
    "                           'alpha': p_value_ci, \n",
    "                           'beta': (1-power),\n",
    "                           'CI': f'[{np.round(left_ci, 3)}, {np.round(right_ci, 3)}]',\n",
    "                           'difference': md_ci,},\n",
    "                          index=[column]) \n",
    "    return result"
   ]
  },
  {
   "cell_type": "code",
   "execution_count": null,
   "id": "2f0218e0",
   "metadata": {},
   "outputs": [],
   "source": [
    "def proportion_result(control: pd.DataFrame,\n",
    "                      treatment: pd.DataFrame,\n",
    "                      column: str,\n",
    "                      n_iters: int = 10_000) -> pd.DataFrame:\n",
    "    # Вероятность событий\n",
    "    size = control.loc[:, column].shape[0]\n",
    "    prop_control = control.loc[:, column].sum() / size\n",
    "    prop_treatment = treatment.loc[:, column].sum() / size\n",
    "    \n",
    "    # Бутсрап\n",
    "    booted_diff = []\n",
    "    for _ in tqdm(range(n_iters)):\n",
    "        control_sample = stats.bernoulli.rvs(p=prop_control, size=size)\n",
    "        treatment_sample = stats.bernoulli.rvs(p=prop_treatment, size=size)\n",
    "        booted_diff.append(np.mean(control_sample - treatment_sample))\n",
    "    \n",
    "    # Считаем статистику после бустрапа\n",
    "    md_ci, std_ci = np.mean(booted_diff), np.std(booted_diff, ddof=1)\n",
    "    left_ci, right_ci = np.percentile(booted_diff, [2.5, 97.5])\n",
    "    p_value_ci = 2 * (1 - stats.norm.cdf(np.abs(md_ci / std_ci)))\n",
    "    \n",
    "    # Считаем мощность эксперимента\n",
    "    effect_size = proportion.proportion_effectsize(prop_control, prop_treatment)\n",
    "    \n",
    "    power = zt_ind_solve_power(effect_size=effect_size,\n",
    "                               nobs1=size,\n",
    "                               alpha=.05,\n",
    "                               power=None,\n",
    "                               ratio=1)\n",
    "    # Формируем отчёт \n",
    "    result = pd.DataFrame({'effect_size': effect_size,\n",
    "                           'alpha': p_value_ci, \n",
    "                           'beta': (1-power),\n",
    "                           'CI': f'[{np.round(left_ci, 3)}, {np.round(right_ci, 3)}]',\n",
    "                           'difference': md_ci,},\n",
    "                          index=[column]) \n",
    "    return result"
   ]
  },
  {
   "cell_type": "code",
   "execution_count": null,
   "id": "672f21a6",
   "metadata": {},
   "outputs": [],
   "source": [
    "control = data_2[data_2.con_treat == 0].copy(deep=True)\n",
    "treatment = data_2[data_2.con_treat == 1].copy(deep=True)"
   ]
  },
  {
   "cell_type": "code",
   "execution_count": null,
   "id": "c2f743fd",
   "metadata": {},
   "outputs": [],
   "source": [
    "### Testing timespent\n",
    "control.shape, treatment.shape"
   ]
  },
  {
   "cell_type": "code",
   "execution_count": null,
   "id": "1973bf35",
   "metadata": {},
   "outputs": [],
   "source": [
    "fig = px.histogram(data,\n",
    "                   x='time',\n",
    "                   color = 'con_treat',\n",
    "                   title='avg_site_visits_distribution',\n",
    "                   marginal = 'box',\n",
    "                   nbins = 100,\n",
    "                   barmode='overlay')\n",
    "\n",
    "fig.show()"
   ]
  },
  {
   "cell_type": "code",
   "execution_count": null,
   "id": "79800ef3",
   "metadata": {},
   "outputs": [],
   "source": [
    "continious_result(control, treatment, 'time')"
   ]
  },
  {
   "cell_type": "code",
   "execution_count": null,
   "id": "2a9631c4",
   "metadata": {},
   "outputs": [],
   "source": [
    "### Bucket"
   ]
  },
  {
   "cell_type": "code",
   "execution_count": null,
   "id": "37f030e3",
   "metadata": {
    "scrolled": true
   },
   "outputs": [],
   "source": [
    "for _ in range(100, 1001): \n",
    "    if data_2.shape[0] % _ == 0:\n",
    "        print(_)"
   ]
  },
  {
   "cell_type": "code",
   "execution_count": null,
   "id": "fd172836",
   "metadata": {},
   "outputs": [],
   "source": [
    "n_buckets = 747\n",
    "data_2 = (data_2\n",
    " .sample(n=data_2.shape[0], replace=False)\n",
    " .reset_index(drop=True)\n",
    " .assign(bucket=list(range(n_buckets)) * int(data_2.shape[0] / n_buckets)))"
   ]
  },
  {
   "cell_type": "code",
   "execution_count": null,
   "id": "22a3b787",
   "metadata": {},
   "outputs": [],
   "source": [
    "data_2.head()"
   ]
  },
  {
   "cell_type": "code",
   "execution_count": null,
   "id": "e665555f",
   "metadata": {},
   "outputs": [],
   "source": [
    "bucketed_data_2 = data_2.groupby(['con_treat', 'bucket'])['time'].agg(mu=np.mean, std=np.std).reset_index()\n",
    "bucketed_data_2"
   ]
  },
  {
   "cell_type": "code",
   "execution_count": null,
   "id": "c3da2e3f",
   "metadata": {},
   "outputs": [],
   "source": [
    "# Сравним исходное выборочное среднее и среднее бакетных средних \n",
    "round(np.mean(data_2[\"time\"]), 5), round(np.mean(bucketed_data_2[\"mu\"]), 5)"
   ]
  },
  {
   "cell_type": "code",
   "execution_count": null,
   "id": "0b43a8ce",
   "metadata": {},
   "outputs": [],
   "source": [
    "round(np.std(data_2[\"time\"]), 5), round(np.mean(bucketed_data_2[\"std\"]), 5)"
   ]
  },
  {
   "cell_type": "code",
   "execution_count": null,
   "id": "6a973df8",
   "metadata": {},
   "outputs": [],
   "source": [
    "control_bucket = bucketed_data_2[bucketed_data_2.con_treat == 0]\n",
    "treatment_bucket = bucketed_data_2[bucketed_data_2.con_treat == 1]\n",
    "continious_result(control_bucket, treatment_bucket, 'mu')"
   ]
  },
  {
   "cell_type": "code",
   "execution_count": null,
   "id": "15b29b39",
   "metadata": {},
   "outputs": [],
   "source": [
    "### Testing converted"
   ]
  },
  {
   "cell_type": "code",
   "execution_count": null,
   "id": "186751f6",
   "metadata": {},
   "outputs": [],
   "source": [
    "fig = px.histogram(data_2, x=\"converted\",\n",
    "                   color='con_treat', barmode='group',\n",
    "                   height=400)\n",
    "fig.show()"
   ]
  },
  {
   "cell_type": "code",
   "execution_count": null,
   "id": "6e830dfd",
   "metadata": {},
   "outputs": [],
   "source": [
    "proportion_result(control, treatment, 'converted')"
   ]
  },
  {
   "cell_type": "code",
   "execution_count": null,
   "id": "e98ed6f3",
   "metadata": {},
   "outputs": [],
   "source": []
  }
 ],
 "metadata": {
  "kernelspec": {
   "display_name": "Python 3 (ipykernel)",
   "language": "python",
   "name": "python3"
  },
  "language_info": {
   "codemirror_mode": {
    "name": "ipython",
    "version": 3
   },
   "file_extension": ".py",
   "mimetype": "text/x-python",
   "name": "python",
   "nbconvert_exporter": "python",
   "pygments_lexer": "ipython3",
   "version": "3.9.13"
  }
 },
 "nbformat": 4,
 "nbformat_minor": 5
}
